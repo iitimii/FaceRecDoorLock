{
 "cells": [
  {
   "cell_type": "code",
   "execution_count": 6,
   "metadata": {},
   "outputs": [],
   "source": [
    "import cv2\n",
    "import numpy as np"
   ]
  },
  {
   "cell_type": "code",
   "execution_count": 8,
   "metadata": {},
   "outputs": [
    {
     "name": "stdout",
     "output_type": "stream",
     "text": [
      "(500, 500, 3)\n",
      "(500, 500)\n"
     ]
    }
   ],
   "source": [
    "frame = np.ones((480, 480, 3))\n",
    "frame = cv2.resize(frame, (500, 500))\n",
    "frame = np.uint8(frame)\n",
    "print(frame.shape)\n",
    "gray = cv2.cvtColor(frame, cv2.COLOR_BGR2GRAY)\n",
    "print(gray.shape)"
   ]
  },
  {
   "cell_type": "code",
   "execution_count": 7,
   "metadata": {},
   "outputs": [],
   "source": [
    "import cv2\n",
    "\n",
    "# Open a connection to the camera (0 is the default camera)\n",
    "cap = cv2.VideoCapture(0)\n",
    "\n",
    "# Check if the camera opened successfully\n",
    "if not cap.isOpened():\n",
    "    print(\"Error: Could not open camera.\")\n",
    "    exit()\n",
    "\n",
    "# Loop to continuously get frames\n",
    "while True:\n",
    "    # Capture frame-by-frame\n",
    "    frame = np.ones((480, 480, 3), dtype=np.uint8)\n",
    "\n",
    "    # Display the resulting frame\n",
    "    cv2.imshow('Camera Test', frame)\n",
    "\n",
    "    # Break the loop on 'q' key press\n",
    "    if cv2.waitKey(1) & 0xFF == ord('q'):\n",
    "        break\n",
    "\n",
    "# Release the camera and close all OpenCV windows\n",
    "cap.release()\n",
    "cv2.destroyAllWindows()\n"
   ]
  },
  {
   "cell_type": "code",
   "execution_count": 4,
   "metadata": {},
   "outputs": [
    {
     "data": {
      "text/plain": [
       "array([[[121, 160, 188],\n",
       "        [126, 166, 192],\n",
       "        [123, 163, 188],\n",
       "        ...,\n",
       "        [123, 153, 195],\n",
       "        [115, 144, 187],\n",
       "        [120, 149, 192]],\n",
       "\n",
       "       [[121, 160, 188],\n",
       "        [125, 165, 191],\n",
       "        [118, 158, 184],\n",
       "        ...,\n",
       "        [118, 147, 189],\n",
       "        [119, 148, 190],\n",
       "        [126, 155, 197]],\n",
       "\n",
       "       [[122, 161, 189],\n",
       "        [116, 155, 183],\n",
       "        [121, 160, 188],\n",
       "        ...,\n",
       "        [119, 148, 190],\n",
       "        [119, 145, 188],\n",
       "        [121, 148, 190]],\n",
       "\n",
       "       ...,\n",
       "\n",
       "       [[ 75,  79,  94],\n",
       "        [ 70,  76,  91],\n",
       "        [ 58,  66,  81],\n",
       "        ...,\n",
       "        [ 72,  87,  94],\n",
       "        [ 73,  88,  95],\n",
       "        [ 79,  94, 101]],\n",
       "\n",
       "       [[ 70,  74,  89],\n",
       "        [ 64,  69,  84],\n",
       "        [ 56,  64,  79],\n",
       "        ...,\n",
       "        [ 80,  95, 102],\n",
       "        [ 77,  91,  99],\n",
       "        [ 78,  93, 100]],\n",
       "\n",
       "       [[ 66,  69,  84],\n",
       "        [ 67,  73,  88],\n",
       "        [ 53,  61,  76],\n",
       "        ...,\n",
       "        [ 85, 100, 107],\n",
       "        [ 79,  94, 101],\n",
       "        [ 83,  97, 105]]], dtype=uint8)"
      ]
     },
     "execution_count": 4,
     "metadata": {},
     "output_type": "execute_result"
    }
   ],
   "source": []
  }
 ],
 "metadata": {
  "kernelspec": {
   "display_name": "aienv",
   "language": "python",
   "name": "python3"
  },
  "language_info": {
   "codemirror_mode": {
    "name": "ipython",
    "version": 3
   },
   "file_extension": ".py",
   "mimetype": "text/x-python",
   "name": "python",
   "nbconvert_exporter": "python",
   "pygments_lexer": "ipython3",
   "version": "3.10.13"
  }
 },
 "nbformat": 4,
 "nbformat_minor": 2
}
